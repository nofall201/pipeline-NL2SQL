{
 "cells": [
  {
   "cell_type": "markdown",
   "id": "7400bb6e",
   "metadata": {},
   "source": [
    " C:\\Users\\rafi\\open-webui-vanna\\training.ipynb"
   ]
  },
  {
   "cell_type": "code",
   "execution_count": 1,
   "id": "f9df55cd",
   "metadata": {},
   "outputs": [],
   "source": [
    "# import libraries\n",
    "import os\n",
    "import pandas as pd\n",
    "from vanna.ollama import Ollama\n",
    "from vanna.chromadb import ChromaDB_VectorStore"
   ]
  },
  {
   "cell_type": "code",
   "execution_count": 2,
   "id": "301a0448",
   "metadata": {},
   "outputs": [],
   "source": [
    "# setup directory and filepath\n",
    "cdir = os.getcwd()\n",
    "chroma = os.path.join(cdir, \"database\")\n",
    "database = os.path.join(cdir, \"database.sqlite\")\n",
    "training = os.path.join(cdir, \"training\", \"dataset.csv\")"
   ]
  },
  {
   "cell_type": "code",
   "execution_count": 3,
   "id": "717bb89d",
   "metadata": {},
   "outputs": [
    {
     "name": "stderr",
     "output_type": "stream",
     "text": [
      "Failed to send telemetry event ClientStartEvent: capture() takes 1 positional argument but 3 were given\n",
      "Failed to send telemetry event ClientCreateCollectionEvent: capture() takes 1 positional argument but 3 were given\n",
      "Failed to send telemetry event ClientCreateCollectionEvent: capture() takes 1 positional argument but 3 were given\n",
      "Failed to send telemetry event ClientCreateCollectionEvent: capture() takes 1 positional argument but 3 were given\n"
     ]
    }
   ],
   "source": [
    "# instantiate vanna\n",
    "class Vanna(ChromaDB_VectorStore, Ollama):\n",
    "    def __init__(self, config=None) -> None:\n",
    "        ChromaDB_VectorStore.__init__(self, config=config)\n",
    "        Ollama.__init__(self, config=config)\n",
    "\n",
    "\n",
    "vn = Vanna(\n",
    "    config={\n",
    "        \"model\": \"qwen2.5:3b\",\n",
    "        \"path\": chroma,\n",
    "    }\n",
    ")"
   ]
  },
  {
   "cell_type": "code",
   "execution_count": 4,
   "id": "bc88f18c",
   "metadata": {},
   "outputs": [],
   "source": [
    "# connect to database\n",
    "vn.connect_to_sqlite(database)"
   ]
  },
  {
   "cell_type": "code",
   "execution_count": 5,
   "id": "0028c082",
   "metadata": {},
   "outputs": [
    {
     "name": "stdout",
     "output_type": "stream",
     "text": [
      "Adding ddl: CREATE TABLE \"Data_tel\" (\n",
      "\"trx_date\" TEXT,\n",
      "  \"groups\" TEXT,\n",
      "  \"area\" TEXT,\n",
      "  \"region\" TEXT,\n",
      "  \"campaign_initiatives\" TEXT,\n",
      "  \"product_commercial_name\" TEXT,\n",
      "  \"channel_name\" TEXT,\n",
      "  \"payment_method\" TEXT,\n",
      "  \"taker_uniq_all\" REAL,\n",
      "  \"revenue\" REAL,\n",
      "  \"trx\" REAL\n",
      ")\n"
     ]
    },
    {
     "name": "stderr",
     "output_type": "stream",
     "text": [
      "Failed to send telemetry event CollectionAddEvent: capture() takes 1 positional argument but 3 were given\n"
     ]
    }
   ],
   "source": [
    "# training with ddls\n",
    "ddls = vn.run_sql(\"SELECT type, sql FROM sqlite_master WHERE sql is not null\")\n",
    "for ddl in ddls[\"sql\"].to_list():\n",
    "    vn.train(ddl=ddl)"
   ]
  },
  {
   "cell_type": "code",
   "execution_count": 6,
   "id": "541c4cf1",
   "metadata": {},
   "outputs": [
    {
     "name": "stderr",
     "output_type": "stream",
     "text": [
      "Failed to send telemetry event CollectionAddEvent: capture() takes 1 positional argument but 3 were given\n",
      "Add of existing embedding ID: ad1de901-c006-530c-a812-13f8ff16e9f0-sql\n",
      "Insert of existing embedding ID: ad1de901-c006-530c-a812-13f8ff16e9f0-sql\n",
      "Add of existing embedding ID: 95aca134-4b64-57ff-98c9-54706635da5e-sql\n",
      "Insert of existing embedding ID: 95aca134-4b64-57ff-98c9-54706635da5e-sql\n",
      "Add of existing embedding ID: 95aca134-4b64-57ff-98c9-54706635da5e-sql\n",
      "Insert of existing embedding ID: 95aca134-4b64-57ff-98c9-54706635da5e-sql\n",
      "Add of existing embedding ID: a18669f1-79c2-53a7-8fea-6508b8d2cb70-sql\n",
      "Insert of existing embedding ID: a18669f1-79c2-53a7-8fea-6508b8d2cb70-sql\n",
      "Add of existing embedding ID: 8e962a08-4296-5759-a7cc-52174901e054-sql\n",
      "Insert of existing embedding ID: 8e962a08-4296-5759-a7cc-52174901e054-sql\n",
      "Add of existing embedding ID: 85e22887-e6e3-5fb5-971a-13181b3bfadd-sql\n",
      "Insert of existing embedding ID: 85e22887-e6e3-5fb5-971a-13181b3bfadd-sql\n",
      "Add of existing embedding ID: 756866e1-7420-5cf8-b7ff-db9da430423b-sql\n",
      "Insert of existing embedding ID: 756866e1-7420-5cf8-b7ff-db9da430423b-sql\n",
      "Add of existing embedding ID: 25303893-2e41-5dc5-a2f2-6f7695c693e6-sql\n",
      "Insert of existing embedding ID: 25303893-2e41-5dc5-a2f2-6f7695c693e6-sql\n",
      "Add of existing embedding ID: 8c9d5e99-63cf-5c6e-8a5c-4f2d3b3c4938-sql\n",
      "Insert of existing embedding ID: 8c9d5e99-63cf-5c6e-8a5c-4f2d3b3c4938-sql\n",
      "Add of existing embedding ID: 8c9d5e99-63cf-5c6e-8a5c-4f2d3b3c4938-sql\n",
      "Insert of existing embedding ID: 8c9d5e99-63cf-5c6e-8a5c-4f2d3b3c4938-sql\n",
      "Add of existing embedding ID: fbec33bf-1282-5cd5-962d-5906d4ba3a82-sql\n",
      "Insert of existing embedding ID: fbec33bf-1282-5cd5-962d-5906d4ba3a82-sql\n",
      "Add of existing embedding ID: f72cdc7e-488d-5d5f-b852-f268b9a3b9ac-sql\n",
      "Insert of existing embedding ID: f72cdc7e-488d-5d5f-b852-f268b9a3b9ac-sql\n",
      "Add of existing embedding ID: 01430f57-f0dc-54af-a13f-f2903502a6f7-sql\n",
      "Insert of existing embedding ID: 01430f57-f0dc-54af-a13f-f2903502a6f7-sql\n",
      "Add of existing embedding ID: a55cf5b6-2475-573e-9acf-bc3bd1b765d6-sql\n",
      "Insert of existing embedding ID: a55cf5b6-2475-573e-9acf-bc3bd1b765d6-sql\n",
      "Add of existing embedding ID: 12a245f6-eae6-5865-8449-9cebb9174041-sql\n",
      "Insert of existing embedding ID: 12a245f6-eae6-5865-8449-9cebb9174041-sql\n",
      "Add of existing embedding ID: 0f0d7ed4-2796-5f5a-b2b1-959a78316335-sql\n",
      "Insert of existing embedding ID: 0f0d7ed4-2796-5f5a-b2b1-959a78316335-sql\n",
      "Add of existing embedding ID: cded6b92-1425-58e6-9d89-d84d49100f97-sql\n",
      "Insert of existing embedding ID: cded6b92-1425-58e6-9d89-d84d49100f97-sql\n",
      "Add of existing embedding ID: 77ab9748-3d5d-51b0-ace3-109ae0762f69-sql\n",
      "Insert of existing embedding ID: 77ab9748-3d5d-51b0-ace3-109ae0762f69-sql\n",
      "Add of existing embedding ID: a55cf5b6-2475-573e-9acf-bc3bd1b765d6-sql\n",
      "Insert of existing embedding ID: a55cf5b6-2475-573e-9acf-bc3bd1b765d6-sql\n",
      "Add of existing embedding ID: 756866e1-7420-5cf8-b7ff-db9da430423b-sql\n",
      "Insert of existing embedding ID: 756866e1-7420-5cf8-b7ff-db9da430423b-sql\n",
      "Add of existing embedding ID: 66e8ab74-15d4-5447-a1d5-d0cf734b224e-sql\n",
      "Insert of existing embedding ID: 66e8ab74-15d4-5447-a1d5-d0cf734b224e-sql\n",
      "Add of existing embedding ID: 66e8ab74-15d4-5447-a1d5-d0cf734b224e-sql\n",
      "Insert of existing embedding ID: 66e8ab74-15d4-5447-a1d5-d0cf734b224e-sql\n",
      "Add of existing embedding ID: de77f8ba-3a45-5b22-a840-475e92e212ff-sql\n",
      "Insert of existing embedding ID: de77f8ba-3a45-5b22-a840-475e92e212ff-sql\n",
      "Add of existing embedding ID: cd9640ef-5578-58b7-a0ff-d7f23440c147-sql\n",
      "Insert of existing embedding ID: cd9640ef-5578-58b7-a0ff-d7f23440c147-sql\n",
      "Add of existing embedding ID: be01461b-ab52-5c88-97c4-68806250520f-sql\n",
      "Insert of existing embedding ID: be01461b-ab52-5c88-97c4-68806250520f-sql\n",
      "Add of existing embedding ID: 34cce09d-9ed2-541b-ac28-f1567ab36242-sql\n",
      "Insert of existing embedding ID: 34cce09d-9ed2-541b-ac28-f1567ab36242-sql\n",
      "Add of existing embedding ID: e6ba9519-11b6-5330-bb9a-f94127498b63-sql\n",
      "Insert of existing embedding ID: e6ba9519-11b6-5330-bb9a-f94127498b63-sql\n",
      "Add of existing embedding ID: a55cf5b6-2475-573e-9acf-bc3bd1b765d6-sql\n",
      "Insert of existing embedding ID: a55cf5b6-2475-573e-9acf-bc3bd1b765d6-sql\n",
      "Add of existing embedding ID: b88cecaa-54a9-5614-bdbf-c97269378525-sql\n",
      "Insert of existing embedding ID: b88cecaa-54a9-5614-bdbf-c97269378525-sql\n",
      "Add of existing embedding ID: b0e574fd-b149-53d5-b6f2-8ae0924a175e-sql\n",
      "Insert of existing embedding ID: b0e574fd-b149-53d5-b6f2-8ae0924a175e-sql\n",
      "Add of existing embedding ID: 756866e1-7420-5cf8-b7ff-db9da430423b-sql\n",
      "Insert of existing embedding ID: 756866e1-7420-5cf8-b7ff-db9da430423b-sql\n",
      "Add of existing embedding ID: 9307ea42-103f-57be-9698-b5696b03cfa8-sql\n",
      "Insert of existing embedding ID: 9307ea42-103f-57be-9698-b5696b03cfa8-sql\n",
      "Add of existing embedding ID: e54d114f-dba3-593c-a0f2-fdcad94fbee4-sql\n",
      "Insert of existing embedding ID: e54d114f-dba3-593c-a0f2-fdcad94fbee4-sql\n",
      "Add of existing embedding ID: a18669f1-79c2-53a7-8fea-6508b8d2cb70-sql\n",
      "Insert of existing embedding ID: a18669f1-79c2-53a7-8fea-6508b8d2cb70-sql\n",
      "Add of existing embedding ID: db700952-c8dd-5383-9b9b-74911989d931-sql\n",
      "Insert of existing embedding ID: db700952-c8dd-5383-9b9b-74911989d931-sql\n",
      "Add of existing embedding ID: e208a053-cc4e-5a61-a5a0-cfafaa75ff40-sql\n",
      "Insert of existing embedding ID: e208a053-cc4e-5a61-a5a0-cfafaa75ff40-sql\n",
      "Add of existing embedding ID: 8e962a08-4296-5759-a7cc-52174901e054-sql\n",
      "Insert of existing embedding ID: 8e962a08-4296-5759-a7cc-52174901e054-sql\n",
      "Add of existing embedding ID: 8e962a08-4296-5759-a7cc-52174901e054-sql\n",
      "Insert of existing embedding ID: 8e962a08-4296-5759-a7cc-52174901e054-sql\n",
      "Add of existing embedding ID: 5171a50a-3244-5d73-bc60-41c43ac11906-sql\n",
      "Insert of existing embedding ID: 5171a50a-3244-5d73-bc60-41c43ac11906-sql\n",
      "Add of existing embedding ID: 756866e1-7420-5cf8-b7ff-db9da430423b-sql\n",
      "Insert of existing embedding ID: 756866e1-7420-5cf8-b7ff-db9da430423b-sql\n",
      "Add of existing embedding ID: 34e79693-dfd3-5305-a6e2-7c2749534469-sql\n",
      "Insert of existing embedding ID: 34e79693-dfd3-5305-a6e2-7c2749534469-sql\n",
      "Add of existing embedding ID: 41188c09-f284-5983-9288-56cf7034cef3-sql\n",
      "Insert of existing embedding ID: 41188c09-f284-5983-9288-56cf7034cef3-sql\n",
      "Add of existing embedding ID: 0abaf9b6-bb85-58c6-a9cc-8960209e6817-sql\n",
      "Insert of existing embedding ID: 0abaf9b6-bb85-58c6-a9cc-8960209e6817-sql\n",
      "Add of existing embedding ID: 8c623550-a247-5a3a-9c81-d1ad9f956886-sql\n",
      "Insert of existing embedding ID: 8c623550-a247-5a3a-9c81-d1ad9f956886-sql\n",
      "Add of existing embedding ID: 8c9d5e99-63cf-5c6e-8a5c-4f2d3b3c4938-sql\n",
      "Insert of existing embedding ID: 8c9d5e99-63cf-5c6e-8a5c-4f2d3b3c4938-sql\n",
      "Add of existing embedding ID: d0dd7a8c-ef6c-5eb0-ac1f-c427a34747ed-sql\n",
      "Insert of existing embedding ID: d0dd7a8c-ef6c-5eb0-ac1f-c427a34747ed-sql\n",
      "Add of existing embedding ID: 0abaf9b6-bb85-58c6-a9cc-8960209e6817-sql\n",
      "Insert of existing embedding ID: 0abaf9b6-bb85-58c6-a9cc-8960209e6817-sql\n",
      "Add of existing embedding ID: bf1f74e9-30fa-53a5-a665-d3cadda5446c-sql\n",
      "Insert of existing embedding ID: bf1f74e9-30fa-53a5-a665-d3cadda5446c-sql\n",
      "Add of existing embedding ID: 09b19308-0b6c-5e8b-9bfd-21fa72a7926a-sql\n",
      "Insert of existing embedding ID: 09b19308-0b6c-5e8b-9bfd-21fa72a7926a-sql\n",
      "Add of existing embedding ID: 7921b7f1-4558-57ac-8979-9277b9d6d7de-sql\n",
      "Insert of existing embedding ID: 7921b7f1-4558-57ac-8979-9277b9d6d7de-sql\n",
      "Add of existing embedding ID: e4cb5de6-2d5c-541d-adb2-d7adc268915d-sql\n",
      "Insert of existing embedding ID: e4cb5de6-2d5c-541d-adb2-d7adc268915d-sql\n",
      "Add of existing embedding ID: a3f55ce8-08ca-5993-b815-1ed025814c1d-sql\n",
      "Insert of existing embedding ID: a3f55ce8-08ca-5993-b815-1ed025814c1d-sql\n",
      "Add of existing embedding ID: 81054591-117f-5748-b1a9-62112a979ded-sql\n",
      "Insert of existing embedding ID: 81054591-117f-5748-b1a9-62112a979ded-sql\n",
      "Add of existing embedding ID: 44e8f55b-31c0-5add-b190-b985c85a8f4c-sql\n",
      "Insert of existing embedding ID: 44e8f55b-31c0-5add-b190-b985c85a8f4c-sql\n",
      "Add of existing embedding ID: 12a245f6-eae6-5865-8449-9cebb9174041-sql\n",
      "Insert of existing embedding ID: 12a245f6-eae6-5865-8449-9cebb9174041-sql\n",
      "Add of existing embedding ID: 8effcc3e-08d1-5689-a75d-76b206883108-sql\n",
      "Insert of existing embedding ID: 8effcc3e-08d1-5689-a75d-76b206883108-sql\n",
      "Add of existing embedding ID: 8effcc3e-08d1-5689-a75d-76b206883108-sql\n",
      "Insert of existing embedding ID: 8effcc3e-08d1-5689-a75d-76b206883108-sql\n",
      "Add of existing embedding ID: 0b011397-10b2-5628-b3c4-d9b1f3288b7b-sql\n",
      "Insert of existing embedding ID: 0b011397-10b2-5628-b3c4-d9b1f3288b7b-sql\n",
      "Add of existing embedding ID: a5de9162-a773-5768-9e3f-447ad2970ad7-sql\n",
      "Insert of existing embedding ID: a5de9162-a773-5768-9e3f-447ad2970ad7-sql\n",
      "Add of existing embedding ID: d2ac41ff-e44a-5d49-9f45-99e863c6b4bc-sql\n",
      "Insert of existing embedding ID: d2ac41ff-e44a-5d49-9f45-99e863c6b4bc-sql\n",
      "Add of existing embedding ID: a1a77ac3-82fe-5221-9f87-2dec6e793a79-sql\n",
      "Insert of existing embedding ID: a1a77ac3-82fe-5221-9f87-2dec6e793a79-sql\n",
      "Add of existing embedding ID: 8c9d5e99-63cf-5c6e-8a5c-4f2d3b3c4938-sql\n",
      "Insert of existing embedding ID: 8c9d5e99-63cf-5c6e-8a5c-4f2d3b3c4938-sql\n",
      "Add of existing embedding ID: 8e962a08-4296-5759-a7cc-52174901e054-sql\n",
      "Insert of existing embedding ID: 8e962a08-4296-5759-a7cc-52174901e054-sql\n",
      "Add of existing embedding ID: 5171a50a-3244-5d73-bc60-41c43ac11906-sql\n",
      "Insert of existing embedding ID: 5171a50a-3244-5d73-bc60-41c43ac11906-sql\n",
      "Add of existing embedding ID: 1017e5bb-15f0-5128-aa67-812e2258205b-sql\n",
      "Insert of existing embedding ID: 1017e5bb-15f0-5128-aa67-812e2258205b-sql\n",
      "Add of existing embedding ID: db700952-c8dd-5383-9b9b-74911989d931-sql\n",
      "Insert of existing embedding ID: db700952-c8dd-5383-9b9b-74911989d931-sql\n",
      "Add of existing embedding ID: 7ec62025-b70e-5332-b84f-d3665cd5b88f-sql\n",
      "Insert of existing embedding ID: 7ec62025-b70e-5332-b84f-d3665cd5b88f-sql\n",
      "Add of existing embedding ID: be01461b-ab52-5c88-97c4-68806250520f-sql\n",
      "Insert of existing embedding ID: be01461b-ab52-5c88-97c4-68806250520f-sql\n",
      "Add of existing embedding ID: fa3bdfef-06db-51d5-a080-2a1993964c95-sql\n",
      "Insert of existing embedding ID: fa3bdfef-06db-51d5-a080-2a1993964c95-sql\n"
     ]
    }
   ],
   "source": [
    "# training with questions and answer pairs\n",
    "df = pd.read_csv(training, delimiter=\";\")\n",
    "\n",
    "for index, row in df.iterrows():\n",
    "    question = row[\"question\"]\n",
    "    answer = row[\"answer\"] + \";\"\n",
    "    vn.train(question=question, sql=answer)"
   ]
  },
  {
   "cell_type": "code",
   "execution_count": null,
   "id": "2fd3f5c3",
   "metadata": {},
   "outputs": [],
   "source": []
  }
 ],
 "metadata": {
  "kernelspec": {
   "display_name": ".venv",
   "language": "python",
   "name": "python3"
  },
  "language_info": {
   "codemirror_mode": {
    "name": "ipython",
    "version": 3
   },
   "file_extension": ".py",
   "mimetype": "text/x-python",
   "name": "python",
   "nbconvert_exporter": "python",
   "pygments_lexer": "ipython3",
   "version": "3.11.0"
  }
 },
 "nbformat": 4,
 "nbformat_minor": 5
}
